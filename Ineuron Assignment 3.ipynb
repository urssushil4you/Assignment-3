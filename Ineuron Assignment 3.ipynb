{
 "cells": [
  {
   "cell_type": "markdown",
   "metadata": {},
   "source": [
    "# ###Q1.1) Write a Python Program to implement your own myreduce() function                    which works exactly like Python's built-in function reduce()\n",
    "                                   "
   ]
  },
  {
   "cell_type": "code",
   "execution_count": 1,
   "metadata": {},
   "outputs": [
    {
     "name": "stdout",
     "output_type": "stream",
     "text": [
      "enter the number: ->25\n",
      "number of list element : [1, 2, 3, 4, 5, 6, 7, 8, 9, 10, 11, 12, 13, 14, 15, 16, 17, 18, 19, 20, 21, 22, 23, 24, 25]\n",
      "sum of total list element:  325\n"
     ]
    }
   ],
   "source": [
    "#solution\n",
    "\n",
    "def reduce(num):\n",
    "    num_list=list(range(1,no+1))\n",
    "    sum_of_element=0\n",
    "    for i in num_list:\n",
    "            sum_of_element=sum_of_element+i\n",
    "    return num_list,sum_of_element\n",
    "    \n",
    "no=int(input(\"enter the number: ->\"))\n",
    "output=reduce(no)\n",
    "print(\"number of list element :\",output[0])\n",
    "print(\"sum of total list element: \",output[1])\n",
    "\n",
    "    "
   ]
  },
  {
   "cell_type": "markdown",
   "metadata": {},
   "source": [
    "### Q1.2) Write a Python program to implement your own myfilter() function which works exactly like Python's                                                          built-in function filter()\n"
   ]
  },
  {
   "cell_type": "code",
   "execution_count": 2,
   "metadata": {},
   "outputs": [
    {
     "name": "stdout",
     "output_type": "stream",
     "text": [
      "Please insert the number: 25\n",
      "Output:\n",
      "List of numbers: [1, 2, 3, 4, 5, 6, 7, 8, 9, 10, 11, 12, 13, 14, 15, 16, 17, 18, 19, 20, 21, 22, 23, 24, 25]\n",
      "List of Even numbers, which are multiples of 3 are: [6, 12, 18, 24]\n",
      "List of Odd numbers, which are multiples of 3 are: [3, 9, 15, 21]\n"
     ]
    }
   ],
   "source": [
    "# solution\n",
    "\n",
    "def myfilter(num_list):\n",
    "    num_list=list(range(1,number+1))\n",
    "    num_even_list=[]\n",
    "    num_odd_list=[]\n",
    "    \n",
    "    for i in num_list:\n",
    "        if(i%3==0):\n",
    "            if(i%2==0):\n",
    "                num_even_list.append(i)\n",
    "            else:\n",
    "                num_odd_list.append(i)\n",
    "                \n",
    "    return num_list,num_even_list,num_odd_list\n",
    "\n",
    "number=int(input(\"Please insert the number: \"))\n",
    "\n",
    "output_value=myfilter(number)\n",
    "\n",
    "\n",
    "\n",
    "print(\"Output:\")\n",
    "print(\"List of numbers:\",output_value[0])\n",
    "print(\"List of Even numbers, which are multiples of 3 are:\",output_value[1])\n",
    "print(\"List of Odd numbers, which are multiples of 3 are:\",output_value[2])\n"
   ]
  },
  {
   "cell_type": "markdown",
   "metadata": {},
   "source": [
    "### Q2) Implement List comprehensions to produce the following lists.Write List comprehensions to produce the                  following Lists\n",
    "\n",
    "i)  ['A', 'C', 'A', 'D', 'G', 'I', ’L’, ‘ D’]\n",
    "\n",
    "ii) ['x', 'xx', 'xxx', 'xxxx', 'y', 'yy', 'yyy', 'yyyy', 'z', 'zz', 'zzz', 'zzzz']\n",
    "\n",
    "iii)['x', 'y', 'z', 'xx', 'yy', 'zz', 'xxx', 'yyy', 'zzz', 'xxxx', 'yyyy', 'zzzz']\n",
    "\n",
    "iv) [[2], [3], [4], [3], [4], [5], [4], [5], [6]] \n",
    "\n",
    "v)  [[2, 3, 4, 5], [3, 4, 5, 6], [4, 5, 6, 7], [5, 6, 7, 8]]\n",
    "                                                                           \n",
    "vi) [(1, 1), (2, 1), (3, 1), (1, 2), (2, 2), (3, 2), (1, 3), (2, 3), (3, 3)]"
   ]
  },
  {
   "cell_type": "code",
   "execution_count": 3,
   "metadata": {},
   "outputs": [
    {
     "name": "stdout",
     "output_type": "stream",
     "text": [
      "Output:\n",
      "['A', 'C', 'A', 'D', 'G', 'I', 'L', 'D']\n"
     ]
    }
   ],
   "source": [
    "# solution \n",
    "# i)\n",
    "\n",
    "word=\"AcadGild\"\n",
    "output_list=[w.upper() for w in word]\n",
    "print(\"Output:\")\n",
    "print(output_list)\n",
    "\n",
    " "
   ]
  },
  {
   "cell_type": "code",
   "execution_count": 4,
   "metadata": {},
   "outputs": [
    {
     "name": "stdout",
     "output_type": "stream",
     "text": [
      "['x', 'xx', 'xxx', 'xxxx', 'y', 'yy', 'yyy', 'yyyy', 'z', 'zz', 'zzz', 'zzzz']\n"
     ]
    }
   ],
   "source": [
    "# ii)\n",
    "\n",
    "list_1=list('xyz')\n",
    "list_2=[s*j for s in list_1 for j in range(1,5) ]\n",
    "print(list_2)"
   ]
  },
  {
   "cell_type": "code",
   "execution_count": 5,
   "metadata": {},
   "outputs": [
    {
     "name": "stdout",
     "output_type": "stream",
     "text": [
      "['x', 'y', 'z', 'xx', 'yy', 'zz', 'xxx', 'yyy', 'zzz', 'xxxx', 'yyyy', 'zzzz']\n"
     ]
    }
   ],
   "source": [
    "#iii)\n",
    "list_3=[s*j for s in range(1,5) for j in list_1 ]\n",
    "print(list_3)\n"
   ]
  },
  {
   "cell_type": "code",
   "execution_count": 7,
   "metadata": {},
   "outputs": [
    {
     "name": "stdout",
     "output_type": "stream",
     "text": [
      "[[2], [3], [4], [3], [4], [5], [4], [5], [6]]\n"
     ]
    }
   ],
   "source": [
    "#iv)\n",
    "num=[2,3,4]\n",
    "num_1=[[i+j] for i in num for j in range(0,3)]\n",
    "print(num_1)\n"
   ]
  },
  {
   "cell_type": "code",
   "execution_count": 8,
   "metadata": {},
   "outputs": [
    {
     "name": "stdout",
     "output_type": "stream",
     "text": [
      "[[2, 3, 4, 5], [3, 4, 5, 6], [4, 5, 6, 7], [5, 6, 7, 8]]\n"
     ]
    }
   ],
   "source": [
    "#v)\n",
    "num_2=[2,3,4,5]\n",
    "num_3=[[i+j for i in range(0,4)] for j in num_2 ]\n",
    "print(num_3)"
   ]
  },
  {
   "cell_type": "code",
   "execution_count": 9,
   "metadata": {},
   "outputs": [
    {
     "name": "stdout",
     "output_type": "stream",
     "text": [
      "[(1, 1), (1, 2), (1, 3), (2, 1), (2, 2), (2, 3), (3, 1), (3, 2), (3, 3)]\n"
     ]
    }
   ],
   "source": [
    "#vi)\n",
    "num_4=[1,2,3]\n",
    "num_5= [(i,j) for i in num_4 for j in num_4]\n",
    "print(num_5)"
   ]
  },
  {
   "cell_type": "code",
   "execution_count": null,
   "metadata": {},
   "outputs": [],
   "source": []
  }
 ],
 "metadata": {
  "kernelspec": {
   "display_name": "Python 3",
   "language": "python",
   "name": "python3"
  },
  "language_info": {
   "codemirror_mode": {
    "name": "ipython",
    "version": 3
   },
   "file_extension": ".py",
   "mimetype": "text/x-python",
   "name": "python",
   "nbconvert_exporter": "python",
   "pygments_lexer": "ipython3",
   "version": "3.8.3"
  }
 },
 "nbformat": 4,
 "nbformat_minor": 4
}
